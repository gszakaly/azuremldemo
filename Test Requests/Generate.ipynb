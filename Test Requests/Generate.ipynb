{
 "cells": [
  {
   "cell_type": "code",
   "execution_count": 1,
   "metadata": {},
   "outputs": [
    {
     "name": "stderr",
     "output_type": "stream",
     "text": [
      "Using TensorFlow backend.\n"
     ]
    }
   ],
   "source": [
    "import json\n",
    "import numpy as np\n",
    "from keras.datasets import fashion_mnist"
   ]
  },
  {
   "cell_type": "code",
   "execution_count": 2,
   "metadata": {},
   "outputs": [],
   "source": [
    "labels = ['T-shirt or top', 'Trouser', 'Pullover', 'Dress', 'Coat', 'Sandal', 'Shirt', 'Sneaker', 'Bag', 'Ankle boot']"
   ]
  },
  {
   "cell_type": "code",
   "execution_count": 3,
   "metadata": {},
   "outputs": [],
   "source": [
    "(x_train, y_train), (x_test, y_test) = fashion_mnist.load_data()"
   ]
  },
  {
   "cell_type": "code",
   "execution_count": 4,
   "metadata": {},
   "outputs": [],
   "source": [
    "num_sample = 10"
   ]
  },
  {
   "cell_type": "code",
   "execution_count": 5,
   "metadata": {},
   "outputs": [],
   "source": [
    "mask = np.random.randint(0, y_test.shape[0] - 1, num_sample)\n",
    "x_sample = x_test[mask]\n",
    "y_sample = y_test[mask]"
   ]
  },
  {
   "cell_type": "code",
   "execution_count": 6,
   "metadata": {},
   "outputs": [
    {
     "name": "stdout",
     "output_type": "stream",
     "text": [
      "Writing file 0 - Sneaker.json\n",
      "Writing file 1 - Coat.json\n",
      "Writing file 2 - Pullover.json\n",
      "Writing file 3 - T-shirt or top.json\n",
      "Writing file 4 - Shirt.json\n",
      "Writing file 5 - Sandal.json\n",
      "Writing file 6 - T-shirt or top.json\n",
      "Writing file 7 - Coat.json\n",
      "Writing file 8 - Trouser.json\n",
      "Writing file 9 - Shirt.json\n"
     ]
    }
   ],
   "source": [
    "for i in range(0, num_sample):\n",
    "    payload = {'data': x_sample[i].reshape(28*28).tolist()}\n",
    "    label = labels[y_sample[i]]\n",
    "    \n",
    "    file_name = '{} - {}.json'.format(i, label)\n",
    "    print('Writing file {}'.format(file_name))\n",
    "    with open(file_name, 'w') as f:\n",
    "        f.write(json.dumps(payload))"
   ]
  },
  {
   "cell_type": "code",
   "execution_count": null,
   "metadata": {},
   "outputs": [],
   "source": []
  },
  {
   "cell_type": "code",
   "execution_count": null,
   "metadata": {},
   "outputs": [],
   "source": []
  }
 ],
 "metadata": {
  "kernelspec": {
   "display_name": "Python 3",
   "language": "python",
   "name": "python3"
  },
  "language_info": {
   "codemirror_mode": {
    "name": "ipython",
    "version": 3
   },
   "file_extension": ".py",
   "mimetype": "text/x-python",
   "name": "python",
   "nbconvert_exporter": "python",
   "pygments_lexer": "ipython3",
   "version": "3.7.1"
  }
 },
 "nbformat": 4,
 "nbformat_minor": 2
}
