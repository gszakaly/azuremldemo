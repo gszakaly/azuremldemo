{
 "cells": [
  {
   "cell_type": "code",
   "execution_count": 1,
   "metadata": {},
   "outputs": [
    {
     "name": "stderr",
     "output_type": "stream",
     "text": [
      "Using TensorFlow backend.\n",
      "/anaconda/envs/py36/lib/python3.6/site-packages/requests/__init__.py:91: RequestsDependencyWarning: urllib3 (1.25.2) or chardet (3.0.4) doesn't match a supported version!\n",
      "  RequestsDependencyWarning)\n"
     ]
    }
   ],
   "source": [
    "from keras.datasets import mnist\n",
    "from keras.models import Sequential\n",
    "from keras.layers import Conv2D, Dense, Dropout, Activation, ZeroPadding2D, MaxPooling2D, Flatten\n",
    "import keras.backend as K\n",
    "import tensorflow as tf\n",
    "import keras\n",
    "import matplotlib.pyplot as plt\n",
    "import datetime\n",
    "import pandas as pd\n",
    "from sklearn import metrics\n",
    "import numpy as np"
   ]
  },
  {
   "cell_type": "markdown",
   "metadata": {},
   "source": [
    "## Load data"
   ]
  },
  {
   "cell_type": "code",
   "execution_count": 2,
   "metadata": {},
   "outputs": [],
   "source": [
    "(x_train_orig, y_train_orig), (x_test_orig, y_test_orig) = mnist.load_data()"
   ]
  },
  {
   "cell_type": "code",
   "execution_count": 3,
   "metadata": {},
   "outputs": [],
   "source": [
    "def show_img(img, ax):\n",
    "    ax.imshow(img)\n",
    "    ax.set_xticklabels([])\n",
    "    ax.set_yticklabels([])\n",
    "    ax.set_xticks([])\n",
    "    ax.set_yticks([])"
   ]
  },
  {
   "cell_type": "code",
   "execution_count": 4,
   "metadata": {},
   "outputs": [
    {
     "data": {
      "image/png": "[encoded data removed]",
      "text/plain": [
       "<Figure size 720x144 with 20 Axes>"
      ]
     },
     "metadata": {},
     "output_type": "display_data"
    }
   ],
   "source": [
    "row_count = 2\n",
    "column_count = 10\n",
    "\n",
    "fig, ax = plt.subplots(row_count, column_count, figsize=(column_count, row_count))\n",
    "plt.axis('off')\n",
    "\n",
    "for x in range(row_count):\n",
    "    for y in range(column_count):\n",
    "        show_img(x_train_orig[np.random.randint(0, x_train_orig.shape[0] - 1)], ax[x, y])\n",
    "\n",
    "plt.show()"
   ]
  },
  {
   "cell_type": "markdown",
   "metadata": {},
   "source": [
    "## Pre-prcess data"
   ]
  },
  {
   "cell_type": "code",
   "execution_count": 5,
   "metadata": {},
   "outputs": [],
   "source": [
    "img_rows = 28\n",
    "img_cols = 28\n",
    "num_classes = 10"
   ]
  },
  {
   "cell_type": "code",
   "execution_count": 6,
   "metadata": {},
   "outputs": [],
   "source": [
    "\n",
    "# Add missing channel dimension\n",
    "x_train = x_train_orig.reshape(x_train_orig.shape[0], img_rows, img_cols, 1)\n",
    "x_test = x_test_orig.reshape(x_test_orig.shape[0], img_rows, img_cols, 1)\n",
    "input_shape = (img_rows, img_cols, 1)\n",
    "\n",
    "x_train = x_train.astype('float32') / 255.\n",
    "x_test = x_test.astype('float32') / 255.\n",
    "\n",
    "y_train = keras.utils.to_categorical(y_train_orig, num_classes)\n",
    "y_test = keras.utils.to_categorical(y_test_orig, num_classes)"
   ]
  },
  {
   "cell_type": "code",
   "execution_count": 7,
   "metadata": {},
   "outputs": [],
   "source": [
    "mask_train = np.random.binomial(1, .05, y_train.shape[0]).astype('bool')\n",
    "mask_test = np.random.binomial(1, .1, y_test.shape[0]).astype('bool')\n",
    "\n",
    "x_train = x_train[mask_train]\n",
    "x_test = x_test[mask_test]\n",
    "\n",
    "y_train = y_train[mask_train]\n",
    "y_test = y_test[mask_test]"
   ]
  },
  {
   "cell_type": "markdown",
   "metadata": {},
   "source": [
    "## Define model"
   ]
  },
  {
   "cell_type": "code",
   "execution_count": 8,
   "metadata": {},
   "outputs": [
    {
     "name": "stdout",
     "output_type": "stream",
     "text": [
      "WARNING:tensorflow:From /anaconda/envs/py36/lib/python3.6/site-packages/tensorflow/python/framework/op_def_library.py:263: colocate_with (from tensorflow.python.framework.ops) is deprecated and will be removed in a future version.\n",
      "Instructions for updating:\n",
      "Colocations handled automatically by placer.\n"
     ]
    }
   ],
   "source": [
    "model = Sequential();\n",
    "model.add(Conv2D(32, (3, 3), padding='same', activation='relu', input_shape=input_shape))\n",
    "model.add(Conv2D(64, (3, 3), strides=2, padding='same', activation='relu'))\n",
    "model.add(Flatten())\n",
    "model.add(Dense(10))\n",
    "model.add(Activation('softmax'))"
   ]
  },
  {
   "cell_type": "code",
   "execution_count": 9,
   "metadata": {},
   "outputs": [],
   "source": [
    "model.compile(optimizer='adam', loss='categorical_crossentropy', metrics=['categorical_accuracy'])"
   ]
  },
  {
   "cell_type": "markdown",
   "metadata": {},
   "source": [
    "## Train model"
   ]
  },
  {
   "cell_type": "code",
   "execution_count": 10,
   "metadata": {},
   "outputs": [],
   "source": [
    "batch_size = 32\n",
    "epochs = 6"
   ]
  },
  {
   "cell_type": "code",
   "execution_count": 11,
   "metadata": {},
   "outputs": [
    {
     "name": "stdout",
     "output_type": "stream",
     "text": [
      "WARNING:tensorflow:From /anaconda/envs/py36/lib/python3.6/site-packages/tensorflow/python/ops/math_ops.py:3066: to_int32 (from tensorflow.python.ops.math_ops) is deprecated and will be removed in a future version.\n",
      "Instructions for updating:\n",
      "Use tf.cast instead.\n",
      "Train on 2975 samples, validate on 1012 samples\n",
      "Epoch 1/6\n",
      "2975/2975 [==============================] - 2s 753us/step - loss: 0.7410 - categorical_accuracy: 0.7748 - val_loss: 0.3283 - val_categorical_accuracy: 0.8972\n",
      "Epoch 2/6\n",
      "2975/2975 [==============================] - 1s 186us/step - loss: 0.2646 - categorical_accuracy: 0.9210 - val_loss: 0.2367 - val_categorical_accuracy: 0.9318\n",
      "Epoch 3/6\n",
      "2975/2975 [==============================] - 1s 181us/step - loss: 0.1515 - categorical_accuracy: 0.9563 - val_loss: 0.1672 - val_categorical_accuracy: 0.9457\n",
      "Epoch 4/6\n",
      "2975/2975 [==============================] - 1s 180us/step - loss: 0.0831 - categorical_accuracy: 0.9765 - val_loss: 0.1663 - val_categorical_accuracy: 0.9476\n",
      "Epoch 5/6\n",
      "2975/2975 [==============================] - 1s 178us/step - loss: 0.0483 - categorical_accuracy: 0.9899 - val_loss: 0.1907 - val_categorical_accuracy: 0.9437\n",
      "Epoch 6/6\n",
      "2975/2975 [==============================] - 1s 179us/step - loss: 0.0281 - categorical_accuracy: 0.9943 - val_loss: 0.1557 - val_categorical_accuracy: 0.9555\n",
      "CPU times: user 5.42 s, sys: 1.4 s, total: 6.83 s\n",
      "Wall time: 5.23 s\n"
     ]
    }
   ],
   "source": [
    "%%time\n",
    "train_hist = model.fit(x_train, y_train, batch_size=batch_size, epochs=epochs, validation_data=(x_test, y_test))"
   ]
  },
  {
   "cell_type": "code",
   "execution_count": 12,
   "metadata": {},
   "outputs": [
    {
     "data": {
      "image/png": "[encoded data removed]",
      "text/plain": [
       "<Figure size 1080x360 with 2 Axes>"
      ]
     },
     "metadata": {
      "needs_background": "light"
     },
     "output_type": "display_data"
    }
   ],
   "source": [
    "fig, ax = plt.subplots(1, 2, figsize=(15, 5))\n",
    "\n",
    "# Loss Curves\n",
    "ax[0].plot(train_hist.history['loss'],'r',linewidth=3.0)\n",
    "ax[0].plot(train_hist.history['val_loss'],'b',linewidth=3.0)\n",
    "ax[0].grid(True, axis = 'y')\n",
    "ax[0].legend(['Training loss', 'Validation Loss'])\n",
    "ax[0].set_ylim([0, 1])\n",
    "ax[0].set_xlabel('Epochs')\n",
    "ax[0].set_ylabel('Loss')\n",
    "ax[0].set_title('Loss Curves')\n",
    "\n",
    "# Accuracy Curves\n",
    "ax[1].plot(train_hist.history['categorical_accuracy'],'r',linewidth=3.0)\n",
    "ax[1].plot(train_hist.history['val_categorical_accuracy'],'b',linewidth=3.0)\n",
    "ax[1].grid(True, axis = 'y')\n",
    "ax[1].legend(['Training Accuracy', 'Validation Accuracy'])\n",
    "ax[1].set_ylim([0, 1])\n",
    "ax[1].set_xlabel('Epochs')\n",
    "ax[1].set_ylabel('Accuracy')\n",
    "ax[1].set_title('Accuracy Curves')\n",
    "\n",
    "plt.savefig('training-' + datetime.datetime.now().strftime(\"%Y%m%d-%H%M%S\") + '.png')\n",
    "\n",
    "plt.show()"
   ]
  },
  {
   "cell_type": "markdown",
   "metadata": {},
   "source": [
    "## Validate"
   ]
  },
  {
   "cell_type": "code",
   "execution_count": 13,
   "metadata": {},
   "outputs": [],
   "source": [
    "y_test_pred = model.predict(x_test)\n",
    "\n",
    "y_test_value = np.argmax(y_test, axis=1)\n",
    "y_test_pred_value = np.argmax(y_test_pred, axis=1)"
   ]
  },
  {
   "cell_type": "code",
   "execution_count": 14,
   "metadata": {},
   "outputs": [
    {
     "name": "stderr",
     "output_type": "stream",
     "text": [
      "/anaconda/envs/py36/lib/python3.6/site-packages/ipykernel/__main__.py:2: RuntimeWarning: divide by zero encountered in log\n",
      "  from ipykernel import kernelapp as app\n"
     ]
    },
    {
     "data": {
      "image/png": "[encoded data removed]",
      "text/plain": [
       "<Figure size 432x288 with 1 Axes>"
      ]
     },
     "metadata": {
      "needs_background": "light"
     },
     "output_type": "display_data"
    }
   ],
   "source": [
    "confusion_matrix = metrics.confusion_matrix(y_test_value, y_test_pred_value)\n",
    "plt.imshow(np.log(confusion_matrix), cmap='Blues')\n",
    "plt.show()"
   ]
  },
  {
   "cell_type": "code",
   "execution_count": 15,
   "metadata": {},
   "outputs": [
    {
     "name": "stdout",
     "output_type": "stream",
     "text": [
      "Accuracy: 0.9555335968379447\n",
      "F1: 0.9555335968379447\n"
     ]
    }
   ],
   "source": [
    "print('Accuracy:', metrics.accuracy_score(y_test_value, y_test_pred_value))\n",
    "print('F1:', metrics.f1_score(y_test_value, y_test_pred_value, average='micro'))"
   ]
  },
  {
   "cell_type": "code",
   "execution_count": null,
   "metadata": {},
   "outputs": [],
   "source": []
  },
  {
   "cell_type": "code",
   "execution_count": null,
   "metadata": {},
   "outputs": [],
   "source": []
  },
  {
   "cell_type": "code",
   "execution_count": null,
   "metadata": {},
   "outputs": [],
   "source": []
  }
 ],
 "metadata": {
  "kernelspec": {
   "display_name": "Python 3.6 - AzureML",
   "language": "python",
   "name": "python3-azureml"
  },
  "language_info": {
   "codemirror_mode": {
    "name": "ipython",
    "version": 3
   },
   "file_extension": ".py",
   "mimetype": "text/x-python",
   "name": "python",
   "nbconvert_exporter": "python",
   "pygments_lexer": "ipython3",
   "version": "3.6.8"
  }
 },
 "nbformat": 4,
 "nbformat_minor": 2
}
